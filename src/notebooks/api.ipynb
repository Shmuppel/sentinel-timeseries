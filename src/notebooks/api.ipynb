{
 "cells": [
  {
   "cell_type": "code",
   "execution_count": 11,
   "metadata": {
    "pycharm": {
     "name": "#%%\n"
    }
   },
   "outputs": [],
   "source": [
    "from sentinelsat import SentinelAPI, read_geojson, geojson_to_wkt, make_path_filter\n",
    "from datetime import date"
   ]
  },
  {
   "cell_type": "markdown",
   "metadata": {},
   "source": [
    "Inputs:\n",
    "Start Date\n",
    "End Date\n"
   ]
  },
  {
   "cell_type": "code",
   "execution_count": 4,
   "metadata": {
    "pycharm": {
     "name": "#%%\n"
    }
   },
   "outputs": [],
   "source": [
    "api = SentinelAPI('Shmuppel', '5Mkq3Qh6pRV@tp9')"
   ]
  },
  {
   "cell_type": "code",
   "execution_count": 6,
   "metadata": {},
   "outputs": [],
   "source": [
    "footprint = geojson_to_wkt(read_geojson('../../resources/study_area/Polygon_WGS84.geojson'))"
   ]
  },
  {
   "cell_type": "code",
   "execution_count": 9,
   "metadata": {},
   "outputs": [],
   "source": [
    "products = api.query(footprint,\n",
    "                     date=(date(2022, 1, 1), date(2022, 8, 30)),\n",
    "                     processinglevel = 'Level-2A',\n",
    "                     platformname='Sentinel-2',\n",
    "                     limit=2)"
   ]
  },
  {
   "cell_type": "code",
   "execution_count": 12,
   "metadata": {},
   "outputs": [],
   "source": [
    "sen2_path_filter = make_path_filter(\"*measurement/*\")\n",
    "sen1_path_filter = make_path_filter(\"*s1?-ew[12]-slc-hh-*.tiff\")"
   ]
  },
  {
   "cell_type": "code",
   "execution_count": 13,
   "metadata": {},
   "outputs": [
    {
     "data": {
      "text/plain": [
       "OrderedDict([('a1536652-60e0-4af3-874c-1e918a974212',\n",
       "              {'title': 'S2A_MSIL2A_20220619T104631_N0400_R051_T31UFU_20220619T173719',\n",
       "               'link': \"https://apihub.copernicus.eu/apihub/odata/v1/Products('a1536652-60e0-4af3-874c-1e918a974212')/$value\",\n",
       "               'link_alternative': \"https://apihub.copernicus.eu/apihub/odata/v1/Products('a1536652-60e0-4af3-874c-1e918a974212')/\",\n",
       "               'link_icon': \"https://apihub.copernicus.eu/apihub/odata/v1/Products('a1536652-60e0-4af3-874c-1e918a974212')/Products('Quicklook')/$value\",\n",
       "               'summary': 'Date: 2022-06-19T10:46:31.024Z, Instrument: MSI, Satellite: Sentinel-2, Size: 830.01 MB',\n",
       "               'ondemand': 'false',\n",
       "               'generationdate': datetime.datetime(2022, 6, 19, 17, 37, 19),\n",
       "               'beginposition': datetime.datetime(2022, 6, 19, 10, 46, 31, 24000),\n",
       "               'endposition': datetime.datetime(2022, 6, 19, 10, 46, 31, 24000),\n",
       "               'ingestiondate': datetime.datetime(2022, 6, 19, 19, 47, 36, 59000),\n",
       "               'orbitnumber': 36513,\n",
       "               'relativeorbitnumber': 51,\n",
       "               'illuminationazimuthangle': 159.985297876717,\n",
       "               'illuminationzenithangle': 30.463112456475,\n",
       "               'vegetationpercentage': 0.010623999999999998,\n",
       "               'notvegetatedpercentage': 0.003417,\n",
       "               'waterpercentage': 1.261811,\n",
       "               'unclassifiedpercentage': 0.000965,\n",
       "               'mediumprobacloudspercentage': 9.091048,\n",
       "               'highprobacloudspercentage': 86.977828,\n",
       "               'snowicepercentage': 0.0,\n",
       "               'cloudcoverpercentage': 98.253167,\n",
       "               'level1cpdiidentifier': 'S2A_OPER_MSI_L1C_TL_ATOS_20220619T143101_A036513_T31UFU_N04.00',\n",
       "               'gmlfootprint': '<gml:Polygon srsName=\"http://www.opengis.net/gml/srs/epsg.xml#4326\" xmlns:gml=\"http://www.opengis.net/gml\">\\n   <gml:outerBoundaryIs>\\n      <gml:LinearRing>\\n         <gml:coordinates>53.24020834947074,4.498460428340929 53.20820137275637,6.141769904481162 52.22256603361336,6.071678487044593 52.25345680664421,4.464980367164797 53.24020834947074,4.498460428340929</gml:coordinates>\\n      </gml:LinearRing>\\n   </gml:outerBoundaryIs>\\n</gml:Polygon>',\n",
       "               'footprint': 'MULTIPOLYGON (((6.071678487044593 52.22256603361336, 6.141769904481162 53.20820137275637, 4.498460428340929 53.24020834947074, 4.464980367164797 52.25345680664421, 6.071678487044593 52.22256603361336)))',\n",
       "               'format': 'SAFE',\n",
       "               'processingbaseline': '04.00',\n",
       "               'platformname': 'Sentinel-2',\n",
       "               'filename': 'S2A_MSIL2A_20220619T104631_N0400_R051_T31UFU_20220619T173719.SAFE',\n",
       "               'instrumentname': 'Multi-Spectral Instrument',\n",
       "               'instrumentshortname': 'MSI',\n",
       "               'size': '830.01 MB',\n",
       "               's2datatakeid': 'GS2A_20220619T104631_036513_N04.00',\n",
       "               'producttype': 'S2MSI2A',\n",
       "               'platformidentifier': '2015-028A',\n",
       "               'orbitdirection': 'ASCENDING',\n",
       "               'platformserialidentifier': 'Sentinel-2A',\n",
       "               'processinglevel': 'Level-2A',\n",
       "               'datastripidentifier': 'S2A_OPER_MSI_L2A_DS_ATOS_20220619T173719_S20220619T104632_N04.00',\n",
       "               'granuleidentifier': 'S2A_OPER_MSI_L2A_TL_ATOS_20220619T173719_A036513_T31UFU_N04.00',\n",
       "               'identifier': 'S2A_MSIL2A_20220619T104631_N0400_R051_T31UFU_20220619T173719',\n",
       "               'uuid': 'a1536652-60e0-4af3-874c-1e918a974212'}),\n",
       "             ('08ac74e6-1e46-43b6-b08d-83d0eaff825e',\n",
       "              {'title': 'S2A_MSIL2A_20220616T103631_N0400_R008_T31UFU_20220616T202909',\n",
       "               'link': \"https://apihub.copernicus.eu/apihub/odata/v1/Products('08ac74e6-1e46-43b6-b08d-83d0eaff825e')/$value\",\n",
       "               'link_alternative': \"https://apihub.copernicus.eu/apihub/odata/v1/Products('08ac74e6-1e46-43b6-b08d-83d0eaff825e')/\",\n",
       "               'link_icon': \"https://apihub.copernicus.eu/apihub/odata/v1/Products('08ac74e6-1e46-43b6-b08d-83d0eaff825e')/Products('Quicklook')/$value\",\n",
       "               'summary': 'Date: 2022-06-16T10:36:31.024Z, Instrument: MSI, Satellite: Sentinel-2, Size: 752.14 MB',\n",
       "               'ondemand': 'false',\n",
       "               'generationdate': datetime.datetime(2022, 6, 16, 20, 29, 9),\n",
       "               'beginposition': datetime.datetime(2022, 6, 16, 10, 36, 31, 24000),\n",
       "               'endposition': datetime.datetime(2022, 6, 16, 10, 36, 31, 24000),\n",
       "               'ingestiondate': datetime.datetime(2022, 6, 16, 22, 12, 45, 961000),\n",
       "               'orbitnumber': 36470,\n",
       "               'relativeorbitnumber': 8,\n",
       "               'illuminationazimuthangle': 155.962257225614,\n",
       "               'illuminationzenithangle': 31.0618060651544,\n",
       "               'vegetationpercentage': 55.879474,\n",
       "               'notvegetatedpercentage': 10.140343,\n",
       "               'waterpercentage': 29.669818,\n",
       "               'unclassifiedpercentage': 0.54067,\n",
       "               'mediumprobacloudspercentage': 0.600187,\n",
       "               'highprobacloudspercentage': 0.402765,\n",
       "               'snowicepercentage': 0.000163,\n",
       "               'cloudcoverpercentage': 2.842696,\n",
       "               'level1cpdiidentifier': 'S2A_OPER_MSI_L1C_TL_ATOS_20220616T173756_A036470_T31UFU_N04.00',\n",
       "               'gmlfootprint': '<gml:Polygon srsName=\"http://www.opengis.net/gml/srs/epsg.xml#4326\" xmlns:gml=\"http://www.opengis.net/gml\">\\n   <gml:outerBoundaryIs>\\n      <gml:LinearRing>\\n         <gml:coordinates>52.24697249361658,4.802243974643927 52.330857958961694,4.838053251316452 52.47646853290247,4.900357880086245 52.62200990277181,4.962813816495911 52.76748913976779,5.025614767972075 52.91297424090894,5.088896057728257 53.05845297461257,5.152590330614903 53.20395744386988,5.216581042688309 53.22603118611186,5.226347573082464 53.20820137275637,6.141769904481162 52.22256603361336,6.071678487044593 52.24697249361658,4.802243974643927</gml:coordinates>\\n      </gml:LinearRing>\\n   </gml:outerBoundaryIs>\\n</gml:Polygon>',\n",
       "               'footprint': 'MULTIPOLYGON (((6.071678487044593 52.22256603361336, 6.141769904481162 53.20820137275637, 5.226347573082464 53.22603118611186, 5.216581042688309 53.20395744386988, 5.152590330614903 53.05845297461257, 5.088896057728257 52.91297424090894, 5.025614767972075 52.76748913976779, 4.962813816495911 52.62200990277181, 4.900357880086245 52.47646853290247, 4.838053251316452 52.330857958961694, 4.802243974643927 52.24697249361658, 6.071678487044593 52.22256603361336)))',\n",
       "               'format': 'SAFE',\n",
       "               'processingbaseline': '04.00',\n",
       "               'platformname': 'Sentinel-2',\n",
       "               'filename': 'S2A_MSIL2A_20220616T103631_N0400_R008_T31UFU_20220616T202909.SAFE',\n",
       "               'instrumentname': 'Multi-Spectral Instrument',\n",
       "               'instrumentshortname': 'MSI',\n",
       "               'size': '752.14 MB',\n",
       "               's2datatakeid': 'GS2A_20220616T103631_036470_N04.00',\n",
       "               'producttype': 'S2MSI2A',\n",
       "               'platformidentifier': '2015-028A',\n",
       "               'orbitdirection': 'DESCENDING',\n",
       "               'platformserialidentifier': 'Sentinel-2A',\n",
       "               'processinglevel': 'Level-2A',\n",
       "               'datastripidentifier': 'S2A_OPER_MSI_L2A_DS_ATOS_20220616T202909_S20220616T104622_N04.00',\n",
       "               'granuleidentifier': 'S2A_OPER_MSI_L2A_TL_ATOS_20220616T202909_A036470_T31UFU_N04.00',\n",
       "               'identifier': 'S2A_MSIL2A_20220616T103631_N0400_R008_T31UFU_20220616T202909',\n",
       "               'uuid': '08ac74e6-1e46-43b6-b08d-83d0eaff825e'})])"
      ]
     },
     "execution_count": 13,
     "metadata": {},
     "output_type": "execute_result"
    }
   ],
   "source": [
    "products"
   ]
  },
  {
   "cell_type": "code",
   "execution_count": 14,
   "metadata": {},
   "outputs": [
    {
     "name": "stdout",
     "output_type": "stream",
     "text": [
      "True\n",
      "True\n"
     ]
    }
   ],
   "source": [
    "for key, item in products.items():\n",
    "    print(api.is_online(key))"
   ]
  },
  {
   "cell_type": "code",
   "execution_count": 50,
   "metadata": {},
   "outputs": [
    {
     "data": {
      "application/vnd.jupyter.widget-view+json": {
       "model_id": "7b1f7e85ecd04c1ab48d35ba150232ad",
       "version_major": 2,
       "version_minor": 0
      },
      "text/plain": [
       "Downloading products:   0%|          | 0/2 [00:00<?, ?product/s]"
      ]
     },
     "metadata": {},
     "output_type": "display_data"
    },
    {
     "data": {
      "application/vnd.jupyter.widget-view+json": {
       "model_id": "65981bdfdb33476c8da9af2ee263416f",
       "version_major": 2,
       "version_minor": 0
      },
      "text/plain": [
       "Downloading S2A_MSIL2A_20220609T104631_N0400_R051_T31UFU_20220609T171618.zip:   0%|          | 0.00/1.13G [00:…"
      ]
     },
     "metadata": {},
     "output_type": "display_data"
    },
    {
     "data": {
      "application/vnd.jupyter.widget-view+json": {
       "model_id": "3f2f897eefdc4d95a2d4704dd2e1dc5b",
       "version_major": 2,
       "version_minor": 0
      },
      "text/plain": [
       "Downloading S2A_MSIL2A_20220606T103631_N0400_R008_T31UFU_20220606T183320.zip:   0%|          | 0.00/609M [00:0…"
      ]
     },
     "metadata": {},
     "output_type": "display_data"
    },
    {
     "data": {
      "application/vnd.jupyter.widget-view+json": {
       "model_id": "",
       "version_major": 2,
       "version_minor": 0
      },
      "text/plain": [
       "MD5 checksumming:   0%|          | 0.00/609M [00:00<?, ?B/s]"
      ]
     },
     "metadata": {},
     "output_type": "display_data"
    },
    {
     "data": {
      "application/vnd.jupyter.widget-view+json": {
       "model_id": "",
       "version_major": 2,
       "version_minor": 0
      },
      "text/plain": [
       "MD5 checksumming:   0%|          | 0.00/1.13G [00:00<?, ?B/s]"
      ]
     },
     "metadata": {},
     "output_type": "display_data"
    },
    {
     "data": {
      "text/plain": [
       "ResultTuple(downloaded={'e58c6062-6261-4739-b9e2-8c561d1974c5': {'id': 'e58c6062-6261-4739-b9e2-8c561d1974c5', 'title': 'S2A_MSIL2A_20220609T104631_N0400_R051_T31UFU_20220609T171618', 'size': 1128610356, 'md5': 'bbb96fdb00aeb64a8dd7504bd63aa5dd', 'date': datetime.datetime(2022, 6, 9, 10, 46, 31, 24000), 'footprint': 'POLYGON((4.498460428340929 53.24020834947074,6.141769904481162 53.20820137275637,6.071678487044593 52.22256603361336,4.464980367164797 52.25345680664421,4.498460428340929 53.24020834947074))', 'url': \"https://apihub.copernicus.eu/apihub/odata/v1/Products('e58c6062-6261-4739-b9e2-8c561d1974c5')/$value\", 'Online': True, 'Creation Date': datetime.datetime(2022, 6, 9, 19, 15, 14, 202000), 'Ingestion Date': datetime.datetime(2022, 6, 9, 19, 14, 43, 260000), 'quicklook_url': \"https://apihub.copernicus.eu/apihub/odata/v1/Products('e58c6062-6261-4739-b9e2-8c561d1974c5')/Products('Quicklook')/$value\", 'path': 'S2A_MSIL2A_20220609T104631_N0400_R051_T31UFU_20220609T171618.zip', 'downloaded_bytes': 1128610356}, '9c33e630-c1c6-4113-8079-4f3915703ca9': {'id': '9c33e630-c1c6-4113-8079-4f3915703ca9', 'title': 'S2A_MSIL2A_20220606T103631_N0400_R008_T31UFU_20220606T183320', 'size': 608906064, 'md5': '15296b68bfb92af94a13040e71b1e5e6', 'date': datetime.datetime(2022, 6, 6, 10, 36, 31, 24000), 'footprint': 'POLYGON((4.811775488617176 52.24678923838578,4.862062313795898 52.364748332675305,4.924392265967054 52.51039125399576,4.987181207586127 52.656055545971775,5.050468988503028 52.8017030577519,5.114279694121936 52.9473361505371,5.178385858368041 53.09289864680096,5.237182672096536 53.22582014931881,6.141769904481162 53.20820137275637,6.071678487044593 52.22256603361336,4.811775488617176 52.24678923838578))', 'url': \"https://apihub.copernicus.eu/apihub/odata/v1/Products('9c33e630-c1c6-4113-8079-4f3915703ca9')/$value\", 'Online': True, 'Creation Date': datetime.datetime(2022, 6, 6, 20, 32, 9, 8000), 'Ingestion Date': datetime.datetime(2022, 6, 6, 20, 31, 42, 620000), 'quicklook_url': \"https://apihub.copernicus.eu/apihub/odata/v1/Products('9c33e630-c1c6-4113-8079-4f3915703ca9')/Products('Quicklook')/$value\", 'path': 'S2A_MSIL2A_20220606T103631_N0400_R008_T31UFU_20220606T183320.zip', 'downloaded_bytes': 608906064}}, retrieval_triggered={}, failed={})"
      ]
     },
     "execution_count": 50,
     "metadata": {},
     "output_type": "execute_result"
    }
   ],
   "source": [
    "#api.download_all(products, lta_retry_delay=30, nodefilter=path_filter)"
   ]
  },
  {
   "cell_type": "code",
   "execution_count": null,
   "metadata": {},
   "outputs": [],
   "source": []
  }
 ],
 "metadata": {
  "kernelspec": {
   "display_name": "Python 3 (ipykernel)",
   "language": "python",
   "name": "python3"
  },
  "language_info": {
   "codemirror_mode": {
    "name": "ipython",
    "version": 3
   },
   "file_extension": ".py",
   "mimetype": "text/x-python",
   "name": "python",
   "nbconvert_exporter": "python",
   "pygments_lexer": "ipython3",
   "version": "3.9.2"
  }
 },
 "nbformat": 4,
 "nbformat_minor": 1
}