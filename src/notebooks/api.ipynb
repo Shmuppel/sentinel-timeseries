{
 "cells": [
  {
   "cell_type": "code",
   "execution_count": 25,
   "metadata": {
    "pycharm": {
     "name": "#%%\n"
    }
   },
   "outputs": [],
   "source": [
    "from sentinelsat import SentinelAPI, read_geojson, geojson_to_wkt\n",
    "from datetime import date"
   ]
  },
  {
   "cell_type": "code",
   "execution_count": 9,
   "metadata": {
    "pycharm": {
     "name": "#%%\n"
    }
   },
   "outputs": [],
   "source": [
    "api = SentinelAPI('', '')"
   ]
  },
  {
   "cell_type": "code",
   "execution_count": 44,
   "metadata": {},
   "outputs": [],
   "source": [
    "footprint = geojson_to_wkt(read_geojson('../resources/study_area/Polygon_WGS84.geojson'))"
   ]
  },
  {
   "cell_type": "code",
   "execution_count": 48,
   "metadata": {},
   "outputs": [],
   "source": [
    "products = api.query(footprint,\n",
    "                     date=(date(2022, 1, 1), date(2022, 8, 30)),\n",
    "                     processinglevel = 'Level-2A',\n",
    "                     platformname='Sentinel-2',\n",
    "                     limit=2)"
   ]
  },
  {
   "cell_type": "code",
   "execution_count": 49,
   "metadata": {},
   "outputs": [
    {
     "data": {
      "text/plain": [
       "OrderedDict([('e58c6062-6261-4739-b9e2-8c561d1974c5',\n",
       "              {'title': 'S2A_MSIL2A_20220609T104631_N0400_R051_T31UFU_20220609T171618',\n",
       "               'link': \"https://apihub.copernicus.eu/apihub/odata/v1/Products('e58c6062-6261-4739-b9e2-8c561d1974c5')/$value\",\n",
       "               'link_alternative': \"https://apihub.copernicus.eu/apihub/odata/v1/Products('e58c6062-6261-4739-b9e2-8c561d1974c5')/\",\n",
       "               'link_icon': \"https://apihub.copernicus.eu/apihub/odata/v1/Products('e58c6062-6261-4739-b9e2-8c561d1974c5')/Products('Quicklook')/$value\",\n",
       "               'summary': 'Date: 2022-06-09T10:46:31.024Z, Instrument: MSI, Satellite: Sentinel-2, Size: 1.05 GB',\n",
       "               'ondemand': 'false',\n",
       "               'generationdate': datetime.datetime(2022, 6, 9, 17, 16, 18),\n",
       "               'beginposition': datetime.datetime(2022, 6, 9, 10, 46, 31, 24000),\n",
       "               'endposition': datetime.datetime(2022, 6, 9, 10, 46, 31, 24000),\n",
       "               'ingestiondate': datetime.datetime(2022, 6, 9, 19, 14, 43, 260000),\n",
       "               'orbitnumber': 36370,\n",
       "               'relativeorbitnumber': 51,\n",
       "               'illuminationazimuthangle': 161.089973089184,\n",
       "               'illuminationzenithangle': 30.8232909652292,\n",
       "               'vegetationpercentage': 31.928945,\n",
       "               'notvegetatedpercentage': 5.604129,\n",
       "               'waterpercentage': 34.23188,\n",
       "               'unclassifiedpercentage': 1.401893,\n",
       "               'mediumprobacloudspercentage': 9.606799,\n",
       "               'highprobacloudspercentage': 7.755283,\n",
       "               'snowicepercentage': 0.005763,\n",
       "               'cloudcoverpercentage': 17.366512,\n",
       "               'level1cpdiidentifier': 'S2A_OPER_MSI_L1C_TL_ATOS_20220609T143015_A036370_T31UFU_N04.00',\n",
       "               'gmlfootprint': '<gml:Polygon srsName=\"http://www.opengis.net/gml/srs/epsg.xml#4326\" xmlns:gml=\"http://www.opengis.net/gml\">\\n   <gml:outerBoundaryIs>\\n      <gml:LinearRing>\\n         <gml:coordinates>53.24020834947074,4.498460428340929 53.20820137275637,6.141769904481162 52.22256603361336,6.071678487044593 52.25345680664421,4.464980367164797 53.24020834947074,4.498460428340929</gml:coordinates>\\n      </gml:LinearRing>\\n   </gml:outerBoundaryIs>\\n</gml:Polygon>',\n",
       "               'footprint': 'MULTIPOLYGON (((6.071678487044593 52.22256603361336, 6.141769904481162 53.20820137275637, 4.498460428340929 53.24020834947074, 4.464980367164797 52.25345680664421, 6.071678487044593 52.22256603361336)))',\n",
       "               'format': 'SAFE',\n",
       "               'processingbaseline': '04.00',\n",
       "               'platformname': 'Sentinel-2',\n",
       "               'filename': 'S2A_MSIL2A_20220609T104631_N0400_R051_T31UFU_20220609T171618.SAFE',\n",
       "               'instrumentname': 'Multi-Spectral Instrument',\n",
       "               'instrumentshortname': 'MSI',\n",
       "               'size': '1.05 GB',\n",
       "               's2datatakeid': 'GS2A_20220609T104631_036370_N04.00',\n",
       "               'producttype': 'S2MSI2A',\n",
       "               'platformidentifier': '2015-028A',\n",
       "               'orbitdirection': 'ASCENDING',\n",
       "               'platformserialidentifier': 'Sentinel-2A',\n",
       "               'processinglevel': 'Level-2A',\n",
       "               'datastripidentifier': 'S2A_OPER_MSI_L2A_DS_ATOS_20220609T171618_S20220609T104629_N04.00',\n",
       "               'granuleidentifier': 'S2A_OPER_MSI_L2A_TL_ATOS_20220609T171618_A036370_T31UFU_N04.00',\n",
       "               'identifier': 'S2A_MSIL2A_20220609T104631_N0400_R051_T31UFU_20220609T171618',\n",
       "               'uuid': 'e58c6062-6261-4739-b9e2-8c561d1974c5'}),\n",
       "             ('9c33e630-c1c6-4113-8079-4f3915703ca9',\n",
       "              {'title': 'S2A_MSIL2A_20220606T103631_N0400_R008_T31UFU_20220606T183320',\n",
       "               'link': \"https://apihub.copernicus.eu/apihub/odata/v1/Products('9c33e630-c1c6-4113-8079-4f3915703ca9')/$value\",\n",
       "               'link_alternative': \"https://apihub.copernicus.eu/apihub/odata/v1/Products('9c33e630-c1c6-4113-8079-4f3915703ca9')/\",\n",
       "               'link_icon': \"https://apihub.copernicus.eu/apihub/odata/v1/Products('9c33e630-c1c6-4113-8079-4f3915703ca9')/Products('Quicklook')/$value\",\n",
       "               'summary': 'Date: 2022-06-06T10:36:31.024Z, Instrument: MSI, Satellite: Sentinel-2, Size: 580.66 MB',\n",
       "               'ondemand': 'false',\n",
       "               'generationdate': datetime.datetime(2022, 6, 6, 18, 33, 20),\n",
       "               'beginposition': datetime.datetime(2022, 6, 6, 10, 36, 31, 24000),\n",
       "               'endposition': datetime.datetime(2022, 6, 6, 10, 36, 31, 24000),\n",
       "               'ingestiondate': datetime.datetime(2022, 6, 6, 20, 31, 42, 620000),\n",
       "               'orbitnumber': 36327,\n",
       "               'relativeorbitnumber': 8,\n",
       "               'illuminationazimuthangle': 157.141691272755,\n",
       "               'illuminationzenithangle': 31.5994687452617,\n",
       "               'vegetationpercentage': 3.231855,\n",
       "               'notvegetatedpercentage': 0.564233,\n",
       "               'waterpercentage': 0.287818,\n",
       "               'unclassifiedpercentage': 0.649508,\n",
       "               'mediumprobacloudspercentage': 53.294849,\n",
       "               'highprobacloudspercentage': 33.459571,\n",
       "               'snowicepercentage': 0.0,\n",
       "               'cloudcoverpercentage': 93.293399,\n",
       "               'level1cpdiidentifier': 'S2A_OPER_MSI_L1C_TL_ATOS_20220606T155908_A036327_T31UFU_N04.00',\n",
       "               'gmlfootprint': '<gml:Polygon srsName=\"http://www.opengis.net/gml/srs/epsg.xml#4326\" xmlns:gml=\"http://www.opengis.net/gml\">\\n   <gml:outerBoundaryIs>\\n      <gml:LinearRing>\\n         <gml:coordinates>52.24678923838578,4.811775488617176 52.364748332675305,4.862062313795898 52.51039125399576,4.924392265967054 52.656055545971775,4.987181207586127 52.8017030577519,5.050468988503028 52.9473361505371,5.114279694121936 53.09289864680096,5.178385858368041 53.22582014931881,5.237182672096536 53.20820137275637,6.141769904481162 52.22256603361336,6.071678487044593 52.24678923838578,4.811775488617176</gml:coordinates>\\n      </gml:LinearRing>\\n   </gml:outerBoundaryIs>\\n</gml:Polygon>',\n",
       "               'footprint': 'MULTIPOLYGON (((6.071678487044593 52.22256603361336, 6.141769904481162 53.20820137275637, 5.237182672096536 53.22582014931881, 5.178385858368041 53.09289864680096, 5.114279694121936 52.9473361505371, 5.050468988503028 52.8017030577519, 4.987181207586127 52.656055545971775, 4.924392265967054 52.51039125399576, 4.862062313795898 52.364748332675305, 4.811775488617176 52.24678923838578, 6.071678487044593 52.22256603361336)))',\n",
       "               'format': 'SAFE',\n",
       "               'processingbaseline': '04.00',\n",
       "               'platformname': 'Sentinel-2',\n",
       "               'filename': 'S2A_MSIL2A_20220606T103631_N0400_R008_T31UFU_20220606T183320.SAFE',\n",
       "               'instrumentname': 'Multi-Spectral Instrument',\n",
       "               'instrumentshortname': 'MSI',\n",
       "               'size': '580.66 MB',\n",
       "               's2datatakeid': 'GS2A_20220606T103631_036327_N04.00',\n",
       "               'producttype': 'S2MSI2A',\n",
       "               'platformidentifier': '2015-028A',\n",
       "               'orbitdirection': 'DESCENDING',\n",
       "               'platformserialidentifier': 'Sentinel-2A',\n",
       "               'processinglevel': 'Level-2A',\n",
       "               'datastripidentifier': 'S2A_OPER_MSI_L2A_DS_ATOS_20220606T183320_S20220606T104438_N04.00',\n",
       "               'granuleidentifier': 'S2A_OPER_MSI_L2A_TL_ATOS_20220606T183320_A036327_T31UFU_N04.00',\n",
       "               'identifier': 'S2A_MSIL2A_20220606T103631_N0400_R008_T31UFU_20220606T183320',\n",
       "               'uuid': '9c33e630-c1c6-4113-8079-4f3915703ca9'})])"
      ]
     },
     "execution_count": 49,
     "metadata": {},
     "output_type": "execute_result"
    }
   ],
   "source": [
    "products"
   ]
  },
  {
   "cell_type": "code",
   "execution_count": 50,
   "metadata": {},
   "outputs": [
    {
     "data": {
      "application/vnd.jupyter.widget-view+json": {
       "model_id": "7b1f7e85ecd04c1ab48d35ba150232ad",
       "version_major": 2,
       "version_minor": 0
      },
      "text/plain": [
       "Downloading products:   0%|          | 0/2 [00:00<?, ?product/s]"
      ]
     },
     "metadata": {},
     "output_type": "display_data"
    },
    {
     "data": {
      "application/vnd.jupyter.widget-view+json": {
       "model_id": "65981bdfdb33476c8da9af2ee263416f",
       "version_major": 2,
       "version_minor": 0
      },
      "text/plain": [
       "Downloading S2A_MSIL2A_20220609T104631_N0400_R051_T31UFU_20220609T171618.zip:   0%|          | 0.00/1.13G [00:…"
      ]
     },
     "metadata": {},
     "output_type": "display_data"
    },
    {
     "data": {
      "application/vnd.jupyter.widget-view+json": {
       "model_id": "3f2f897eefdc4d95a2d4704dd2e1dc5b",
       "version_major": 2,
       "version_minor": 0
      },
      "text/plain": [
       "Downloading S2A_MSIL2A_20220606T103631_N0400_R008_T31UFU_20220606T183320.zip:   0%|          | 0.00/609M [00:0…"
      ]
     },
     "metadata": {},
     "output_type": "display_data"
    },
    {
     "data": {
      "application/vnd.jupyter.widget-view+json": {
       "model_id": "",
       "version_major": 2,
       "version_minor": 0
      },
      "text/plain": [
       "MD5 checksumming:   0%|          | 0.00/609M [00:00<?, ?B/s]"
      ]
     },
     "metadata": {},
     "output_type": "display_data"
    },
    {
     "data": {
      "application/vnd.jupyter.widget-view+json": {
       "model_id": "",
       "version_major": 2,
       "version_minor": 0
      },
      "text/plain": [
       "MD5 checksumming:   0%|          | 0.00/1.13G [00:00<?, ?B/s]"
      ]
     },
     "metadata": {},
     "output_type": "display_data"
    },
    {
     "data": {
      "text/plain": [
       "ResultTuple(downloaded={'e58c6062-6261-4739-b9e2-8c561d1974c5': {'id': 'e58c6062-6261-4739-b9e2-8c561d1974c5', 'title': 'S2A_MSIL2A_20220609T104631_N0400_R051_T31UFU_20220609T171618', 'size': 1128610356, 'md5': 'bbb96fdb00aeb64a8dd7504bd63aa5dd', 'date': datetime.datetime(2022, 6, 9, 10, 46, 31, 24000), 'footprint': 'POLYGON((4.498460428340929 53.24020834947074,6.141769904481162 53.20820137275637,6.071678487044593 52.22256603361336,4.464980367164797 52.25345680664421,4.498460428340929 53.24020834947074))', 'url': \"https://apihub.copernicus.eu/apihub/odata/v1/Products('e58c6062-6261-4739-b9e2-8c561d1974c5')/$value\", 'Online': True, 'Creation Date': datetime.datetime(2022, 6, 9, 19, 15, 14, 202000), 'Ingestion Date': datetime.datetime(2022, 6, 9, 19, 14, 43, 260000), 'quicklook_url': \"https://apihub.copernicus.eu/apihub/odata/v1/Products('e58c6062-6261-4739-b9e2-8c561d1974c5')/Products('Quicklook')/$value\", 'path': 'S2A_MSIL2A_20220609T104631_N0400_R051_T31UFU_20220609T171618.zip', 'downloaded_bytes': 1128610356}, '9c33e630-c1c6-4113-8079-4f3915703ca9': {'id': '9c33e630-c1c6-4113-8079-4f3915703ca9', 'title': 'S2A_MSIL2A_20220606T103631_N0400_R008_T31UFU_20220606T183320', 'size': 608906064, 'md5': '15296b68bfb92af94a13040e71b1e5e6', 'date': datetime.datetime(2022, 6, 6, 10, 36, 31, 24000), 'footprint': 'POLYGON((4.811775488617176 52.24678923838578,4.862062313795898 52.364748332675305,4.924392265967054 52.51039125399576,4.987181207586127 52.656055545971775,5.050468988503028 52.8017030577519,5.114279694121936 52.9473361505371,5.178385858368041 53.09289864680096,5.237182672096536 53.22582014931881,6.141769904481162 53.20820137275637,6.071678487044593 52.22256603361336,4.811775488617176 52.24678923838578))', 'url': \"https://apihub.copernicus.eu/apihub/odata/v1/Products('9c33e630-c1c6-4113-8079-4f3915703ca9')/$value\", 'Online': True, 'Creation Date': datetime.datetime(2022, 6, 6, 20, 32, 9, 8000), 'Ingestion Date': datetime.datetime(2022, 6, 6, 20, 31, 42, 620000), 'quicklook_url': \"https://apihub.copernicus.eu/apihub/odata/v1/Products('9c33e630-c1c6-4113-8079-4f3915703ca9')/Products('Quicklook')/$value\", 'path': 'S2A_MSIL2A_20220606T103631_N0400_R008_T31UFU_20220606T183320.zip', 'downloaded_bytes': 608906064}}, retrieval_triggered={}, failed={})"
      ]
     },
     "execution_count": 50,
     "metadata": {},
     "output_type": "execute_result"
    }
   ],
   "source": [
    "api.download_all(products, lta_retry_delay=30)"
   ]
  },
  {
   "cell_type": "code",
   "execution_count": null,
   "metadata": {},
   "outputs": [],
   "source": []
  }
 ],
 "metadata": {
  "kernelspec": {
   "display_name": "Python 3 (ipykernel)",
   "language": "python",
   "name": "python3"
  },
  "language_info": {
   "codemirror_mode": {
    "name": "ipython",
    "version": 3
   },
   "file_extension": ".py",
   "mimetype": "text/x-python",
   "name": "python",
   "nbconvert_exporter": "python",
   "pygments_lexer": "ipython3",
   "version": "3.9.2"
  }
 },
 "nbformat": 4,
 "nbformat_minor": 1
}