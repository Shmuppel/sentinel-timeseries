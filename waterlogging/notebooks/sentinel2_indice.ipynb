{
 "cells": [
  {
   "cell_type": "code",
   "execution_count": null,
   "metadata": {},
   "outputs": [],
   "source": [
    "import geopandas as gpd\n",
    "from sentineltimeseries.util.shapes import get_polygon_from_geojson\n",
    "\n",
    "study_area = get_polygon_from_geojson('../resources/study_area/Polygon_WGS84.geojson')\n",
    "parcels = gpd.read_file('../resources/study_area/AOI_BRP_WGS84.geojson')"
   ]
  },
  {
   "cell_type": "code",
   "execution_count": null,
   "metadata": {},
   "outputs": [],
   "source": [
    "from pyproj import CRS\n",
    "from sentineltimeseries.api import SentinelTimeseriesAPI\n",
    "\n",
    "api = SentinelTimeseriesAPI(\n",
    "    username='your_copernicus_username',\n",
    "    password='your_copernicus_password',\n",
    "    aoi=study_area,\n",
    "    warp=CRS('EPSG:4326'),\n",
    "    working_directory='../resources/images'\n",
    ")"
   ]
  },
  {
   "cell_type": "code",
   "execution_count": null,
   "metadata": {},
   "outputs": [],
   "source": [
    "from datetime import date\n",
    "\n",
    "sentinel12_products = api.get_sentinel2_products(date(2022, 1, 1), date(2022, 5, 1))"
   ]
  },
  {
   "cell_type": "code",
   "execution_count": null,
   "metadata": {},
   "outputs": [],
   "source": [
    " parcels = parcels.assign(stat_count=0, stat_percentile95=0)"
   ]
  },
  {
   "cell_type": "code",
   "execution_count": null,
   "metadata": {},
   "outputs": [],
   "source": [
    "import matplotlib.pyplot as plt\n",
    "import numpy as np\n",
    "\n",
    "from rasterstats import zonal_stats\n",
    "from sentineltimeseries.util.arrays import get_bands_as_arrays, mask_clouds_and_snow\n",
    "\n",
    "for product in sentinel2_products:\n",
    "    date_string = product.date.strftime(\"%Y-%m-%d\")\n",
    "    bands = product['B03', 'B08', 'CLD', 'SNW']\n",
    "    band_arrays, affine_transform = get_bands_as_arrays(bands, api.aoi)\n",
    "    band3, band8, cld, snw = band_arrays['B03'], band_arrays['B08'], band_arrays['CLD'], band_arrays['SNW']\n",
    "\n",
    "    # Mask clouds and snow from band arrays\n",
    "    band3_array = mask_clouds_and_snow(band3, cld, snw)\n",
    "    band8_array = mask_clouds_and_snow(band8, cld, snw)\n",
    "\n",
    "    # Calculate indice\n",
    "    mndwi_xu = (band3_array - band8_array) / (band3_array + band8_array)\n",
    "\n",
    "    # Calculate zonal statistics\n",
    "    print(f\"{date_string}: Calculating zonal statistics...\")\n",
    "    stats = zonal_stats(\n",
    "        parcels,\n",
    "        mndwi_xu.filled(),\n",
    "        affine=affine_transform,\n",
    "        nodata=-999,\n",
    "        stats=['count', 'percentile_95']\n",
    "    )\n",
    "\n",
    "    # Calculate a running sum of statistics\n",
    "    stat_count, stat_percentile95 = [], []\n",
    "    for stat in stats:\n",
    "        stat_count.append(stat['count'])\n",
    "        # if there are no pixels we replace the statistics with 0\n",
    "        # this should only be done, because we are summing statistics over multiple images\n",
    "        stat_percentile95.append(stat['percentile_95'] if stat['percentile_95'] else 0)\n",
    "\n",
    "    parcels['stat_count'] += stat_count\n",
    "    parcels['stat_percentile95'] += stat_percentile95"
   ]
  },
  {
   "cell_type": "code",
   "execution_count": null,
   "metadata": {},
   "outputs": [],
   "source": [
    "# Average the percentiles over the amount of hotspots\n",
    "parcels['stat_percentile95'] = parcels['stat_percentile95'] / len(sentinel2_products)\n",
    "# Plot average percentiles per parcel\n",
    "fig, ax = plt.subplots(figsize=(12, 8))\n",
    "parcels.plot(column='stat_percentile95', legend=True, cmap='Spectral', ax=ax)\n",
    "plt.show()\n"
   ]
  }
 ],
 "metadata": {
  "kernelspec": {
   "display_name": "Python 3 (ipykernel)",
   "language": "python",
   "name": "python3"
  },
  "language_info": {
   "codemirror_mode": {
    "name": "ipython",
    "version": 3
   },
   "file_extension": ".py",
   "mimetype": "text/x-python",
   "name": "python",
   "nbconvert_exporter": "python",
   "pygments_lexer": "ipython3",
   "version": "3.9.2"
  }
 },
 "nbformat": 4,
 "nbformat_minor": 1
}