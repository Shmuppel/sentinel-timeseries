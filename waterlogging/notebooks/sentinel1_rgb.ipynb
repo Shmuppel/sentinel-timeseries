{
 "cells": [
  {
   "cell_type": "markdown",
   "source": [
    "# Sentinel-1 composite RGB visualization"
   ],
   "metadata": {
    "collapsed": false,
    "pycharm": {
     "name": "#%% md\n"
    }
   }
  },
  {
   "cell_type": "markdown",
   "source": [
    "### Convert to decibels and min max normalization"
   ],
   "metadata": {
    "collapsed": false,
    "pycharm": {
     "name": "#%% md\n"
    }
   }
  },
  {
   "cell_type": "code",
   "execution_count": null,
   "metadata": {
    "collapsed": true,
    "pycharm": {
     "is_executing": true,
     "name": "#%%\n"
    }
   },
   "outputs": [],
   "source": [
    "def convert_to_decibel(band):\n",
    "    \"\"\"This function converts the vv and vh reprojected tiffs to decibels using the log 10\n",
    "     while ignoring the 0 values caused by the masking to the study area\"\"\"\n",
    "    return np.log10(band, out=np.zeros_like(band, dtype='float32'), where=(band != 0))\n",
    "\n",
    "\n",
    "def min_max_norm(band):\n",
    "    \"\"\"\"To be able to plot an RGB image, the three bands need to be stretched to accommodate\n",
    "    correct RGB values. This is done by normalising each band.\"\"\"\n",
    "    band_min, band_max = band.min(), band.max()\n",
    "    return (band - band_min) / (band_max - band_min)"
   ]
  },
  {
   "cell_type": "markdown",
   "source": [
    "### Importing study area (AOI) and parcels"
   ],
   "metadata": {
    "collapsed": false,
    "pycharm": {
     "name": "#%% md\n"
    }
   }
  },
  {
   "cell_type": "code",
   "execution_count": null,
   "metadata": {
    "pycharm": {
     "name": "#%%\n"
    }
   },
   "outputs": [],
   "source": [
    "study_area = get_polygon_from_geojson('../resources/study_area/Polygon_WGS84.geojson')\n",
    "parcels = gpd.read_file('../resources/study_area/AOI_BRP_WGS84.geojson')"
   ]
  },
  {
   "cell_type": "markdown",
   "source": [
    "### Get API information"
   ],
   "metadata": {
    "collapsed": false,
    "pycharm": {
     "name": "#%% md\n"
    }
   }
  },
  {
   "cell_type": "code",
   "execution_count": null,
   "metadata": {
    "pycharm": {
     "name": "#%%\n"
    }
   },
   "outputs": [],
   "source": [
    "api = SentinelTimeseriesAPI(\n",
    "    username=os.getenv('your_copernicus_username'),\n",
    "    password=os.getenv('your_copernicus_password'),\n",
    "    aoi=study_area,\n",
    "    warp=CRS('EPSG:4326'),\n",
    "    working_directory='../resources/images'\n",
    ")"
   ]
  },
  {
   "cell_type": "code",
   "execution_count": null,
   "metadata": {
    "pycharm": {
     "name": "#%%\n"
    }
   },
   "outputs": [],
   "source": [
    "sentinel1_products = api.get_sentinel1_products(date(2022, 1, 1), date(2022, 5, 1)) # Add specific date for the sentinel-1 product"
   ]
  },
  {
   "cell_type": "markdown",
   "source": [
    "### Visualize the composite RGB"
   ],
   "metadata": {
    "collapsed": false,
    "pycharm": {
     "name": "#%% md\n"
    }
   }
  },
  {
   "cell_type": "code",
   "execution_count": null,
   "metadata": {
    "pycharm": {
     "name": "#%%\n"
    }
   },
   "outputs": [],
   "source": [
    "from datetime import date\n",
    "import numpy as np\n",
    "from matplotlib import pyplot as plt\n",
    "from rasterio.plot import show\n",
    "from sentineltimeseries.util.arrays import get_band_as_array\n",
    "\n",
    "for product in sentinel1_products:\n",
    "        vv, _ = get_band_as_array(product['VV'].path, api.aoi)\n",
    "        vh, affine_transform = get_band_as_array(product['VH'].path, api.aoi)\n",
    "\n",
    "        vv_db, vh_db = convert_to_decibel(vv), convert_to_decibel(vh)\n",
    "        vv_vh_ratio = vv_db - vh_db\n",
    "        # check that there are no -inf values, else the calculations did not go correctly.\n",
    "        assert np.min(vv_vh_ratio) != -np.inf\n",
    "\n",
    "        vv_db_norm = min_max_norm(vv_db)\n",
    "        vh_db_norm = min_max_norm(vh_db)\n",
    "        ratio_norm = min_max_norm(vv_vh_ratio)\n",
    "        print('Normalised the three bands')\n",
    "\n",
    "        # Stack the normalised arrays\n",
    "        s1_rgb = np.ma.stack((vv_db_norm, vh_db_norm, ratio_norm))\n",
    "\n",
    "        # Turn masked arrays into normal arrays because masked arrays are not supported when saving to file or plotting\n",
    "        masked_band = np.ma.array(s1_rgb, mask=s1_rgb.mask, dtype=np.float32, fill_value=-999.)\n",
    "        s1_rgb = masked_band.filled()\n",
    "        s1_rgb = np.asarray(s1_rgb)\n",
    "\n",
    "        # Plot percentiles per parcel\n",
    "        date_string = product.date.strftime(\"%Y-%m-%d\")\n",
    "        fig, ax = plt.subplots(figsize=(12, 8))\n",
    "        show(s1_rgb, ax=ax, title=date_string)\n",
    "        plt.savefig(f'./results/{date_string}')\n"
   ]
  }
 ],
 "metadata": {
  "kernelspec": {
   "display_name": "Python 3 (ipykernel)",
   "language": "python",
   "name": "python3"
  },
  "language_info": {
   "codemirror_mode": {
    "name": "ipython",
    "version": 3
   },
   "file_extension": ".py",
   "mimetype": "text/x-python",
   "name": "python",
   "nbconvert_exporter": "python",
   "pygments_lexer": "ipython3",
   "version": "3.9.2"
  }
 },
 "nbformat": 4,
 "nbformat_minor": 1
}